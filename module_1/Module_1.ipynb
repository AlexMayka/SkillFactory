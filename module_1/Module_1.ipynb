{
 "cells": [
  {
   "cell_type": "code",
   "execution_count": 401,
   "metadata": {
    "_cell_guid": "b1076dfc-b9ad-4769-8c92-a6c4dae69d19",
    "_uuid": "8f2839f25d086af736a60e9eeb907d3b93b6e0e5",
    "colab": {},
    "colab_type": "code",
    "id": "U2D2gTdJVp90"
   },
   "outputs": [],
   "source": [
    "import numpy as np\n",
    "import pandas as pd\n",
    "import seaborn as sns\n",
    "import matplotlib.pyplot as plt\n",
    "from collections import Counter\n",
    "from itertools import combinations"
   ]
  },
  {
   "cell_type": "code",
   "execution_count": 402,
   "metadata": {
    "_cell_guid": "79c7e3d0-c299-4dcb-8224-4455121ee9b0",
    "_uuid": "d629ff2d2480ee46fbb7e2d37f6b5fab8052498a",
    "colab": {},
    "colab_type": "code",
    "id": "oyGfxL3eVp9-"
   },
   "outputs": [
    {
     "data": {
      "text/html": [
       "<div>\n",
       "<style scoped>\n",
       "    .dataframe tbody tr th:only-of-type {\n",
       "        vertical-align: middle;\n",
       "    }\n",
       "\n",
       "    .dataframe tbody tr th {\n",
       "        vertical-align: top;\n",
       "    }\n",
       "\n",
       "    .dataframe thead th {\n",
       "        text-align: right;\n",
       "    }\n",
       "</style>\n",
       "<table border=\"1\" class=\"dataframe\">\n",
       "  <thead>\n",
       "    <tr style=\"text-align: right;\">\n",
       "      <th></th>\n",
       "      <th>imdb_id</th>\n",
       "      <th>budget</th>\n",
       "      <th>revenue</th>\n",
       "      <th>original_title</th>\n",
       "      <th>cast</th>\n",
       "      <th>director</th>\n",
       "      <th>tagline</th>\n",
       "      <th>overview</th>\n",
       "      <th>runtime</th>\n",
       "      <th>genres</th>\n",
       "      <th>production_companies</th>\n",
       "      <th>release_date</th>\n",
       "      <th>vote_average</th>\n",
       "      <th>release_year</th>\n",
       "    </tr>\n",
       "  </thead>\n",
       "  <tbody>\n",
       "    <tr>\n",
       "      <th>1640</th>\n",
       "      <td>tt0350258</td>\n",
       "      <td>40000000</td>\n",
       "      <td>124731534</td>\n",
       "      <td>Ray</td>\n",
       "      <td>Jamie Foxx|Kerry Washington|Regina King|Harry ...</td>\n",
       "      <td>Taylor Hackford</td>\n",
       "      <td>The extraordinary life story of Ray Charles. A...</td>\n",
       "      <td>Born on a sharecropping plantation in Northern...</td>\n",
       "      <td>152</td>\n",
       "      <td>Drama</td>\n",
       "      <td>Universal Pictures</td>\n",
       "      <td>10/29/2004</td>\n",
       "      <td>7.0</td>\n",
       "      <td>2004</td>\n",
       "    </tr>\n",
       "    <tr>\n",
       "      <th>794</th>\n",
       "      <td>tt0491152</td>\n",
       "      <td>35000000</td>\n",
       "      <td>59901913</td>\n",
       "      <td>Something Borrowed</td>\n",
       "      <td>Kate Hudson|Ginnifer Goodwin|John Krasinski|Co...</td>\n",
       "      <td>Luke Greenfield</td>\n",
       "      <td>It's a thin line between love and friendship.</td>\n",
       "      <td>Though Rachel (Ginnifer Goodwin) is a successf...</td>\n",
       "      <td>112</td>\n",
       "      <td>Comedy|Drama|Romance</td>\n",
       "      <td>Alcon Entertainment|Wild Ocean Films|2S Films</td>\n",
       "      <td>5/5/2011</td>\n",
       "      <td>6.0</td>\n",
       "      <td>2011</td>\n",
       "    </tr>\n",
       "    <tr>\n",
       "      <th>588</th>\n",
       "      <td>tt0234829</td>\n",
       "      <td>34000000</td>\n",
       "      <td>19693891</td>\n",
       "      <td>Summer Catch</td>\n",
       "      <td>Freddie Prinze Jr.|Jessica Biel|Fred Ward|Matt...</td>\n",
       "      <td>Mike Tollin</td>\n",
       "      <td>Are you game?</td>\n",
       "      <td>A coming-of-age romantic comedy set against th...</td>\n",
       "      <td>108</td>\n",
       "      <td>Drama|Comedy|Romance</td>\n",
       "      <td>Tollin/Robbins Productions|Warner Bros.</td>\n",
       "      <td>8/22/2001</td>\n",
       "      <td>4.8</td>\n",
       "      <td>2001</td>\n",
       "    </tr>\n",
       "    <tr>\n",
       "      <th>1751</th>\n",
       "      <td>tt0443680</td>\n",
       "      <td>30000000</td>\n",
       "      <td>14711793</td>\n",
       "      <td>The Assassination of Jesse James by the Coward...</td>\n",
       "      <td>Brad Pitt|Casey Affleck|Sam Shepard|Mary-Louis...</td>\n",
       "      <td>Andrew Dominik</td>\n",
       "      <td>Beyond the myth lies America's greatest betrayal</td>\n",
       "      <td>Outlaw Jesse James is rumored be the 'fastest ...</td>\n",
       "      <td>160</td>\n",
       "      <td>Action|Drama|Western</td>\n",
       "      <td>Plan B Entertainment|Virtual Studios|Scott Fre...</td>\n",
       "      <td>9/2/2007</td>\n",
       "      <td>6.9</td>\n",
       "      <td>2007</td>\n",
       "    </tr>\n",
       "    <tr>\n",
       "      <th>438</th>\n",
       "      <td>tt1075747</td>\n",
       "      <td>47000000</td>\n",
       "      <td>10539000</td>\n",
       "      <td>Jonah Hex</td>\n",
       "      <td>Josh Brolin|John Malkovich|Megan Fox|Michael F...</td>\n",
       "      <td>Jimmy Hayward</td>\n",
       "      <td>Revenge gets ugly.</td>\n",
       "      <td>Gunsliger Jonah Hex (Josh Brolin) is appointed...</td>\n",
       "      <td>80</td>\n",
       "      <td>Action|Western|Drama|Fantasy|Thriller</td>\n",
       "      <td>Warner Bros.</td>\n",
       "      <td>6/18/2010</td>\n",
       "      <td>4.4</td>\n",
       "      <td>2010</td>\n",
       "    </tr>\n",
       "  </tbody>\n",
       "</table>\n",
       "</div>"
      ],
      "text/plain": [
       "        imdb_id    budget    revenue  \\\n",
       "1640  tt0350258  40000000  124731534   \n",
       "794   tt0491152  35000000   59901913   \n",
       "588   tt0234829  34000000   19693891   \n",
       "1751  tt0443680  30000000   14711793   \n",
       "438   tt1075747  47000000   10539000   \n",
       "\n",
       "                                         original_title  \\\n",
       "1640                                                Ray   \n",
       "794                                  Something Borrowed   \n",
       "588                                        Summer Catch   \n",
       "1751  The Assassination of Jesse James by the Coward...   \n",
       "438                                           Jonah Hex   \n",
       "\n",
       "                                                   cast         director  \\\n",
       "1640  Jamie Foxx|Kerry Washington|Regina King|Harry ...  Taylor Hackford   \n",
       "794   Kate Hudson|Ginnifer Goodwin|John Krasinski|Co...  Luke Greenfield   \n",
       "588   Freddie Prinze Jr.|Jessica Biel|Fred Ward|Matt...      Mike Tollin   \n",
       "1751  Brad Pitt|Casey Affleck|Sam Shepard|Mary-Louis...   Andrew Dominik   \n",
       "438   Josh Brolin|John Malkovich|Megan Fox|Michael F...    Jimmy Hayward   \n",
       "\n",
       "                                                tagline  \\\n",
       "1640  The extraordinary life story of Ray Charles. A...   \n",
       "794       It's a thin line between love and friendship.   \n",
       "588                                       Are you game?   \n",
       "1751   Beyond the myth lies America's greatest betrayal   \n",
       "438                                  Revenge gets ugly.   \n",
       "\n",
       "                                               overview  runtime  \\\n",
       "1640  Born on a sharecropping plantation in Northern...      152   \n",
       "794   Though Rachel (Ginnifer Goodwin) is a successf...      112   \n",
       "588   A coming-of-age romantic comedy set against th...      108   \n",
       "1751  Outlaw Jesse James is rumored be the 'fastest ...      160   \n",
       "438   Gunsliger Jonah Hex (Josh Brolin) is appointed...       80   \n",
       "\n",
       "                                     genres  \\\n",
       "1640                                  Drama   \n",
       "794                    Comedy|Drama|Romance   \n",
       "588                    Drama|Comedy|Romance   \n",
       "1751                   Action|Drama|Western   \n",
       "438   Action|Western|Drama|Fantasy|Thriller   \n",
       "\n",
       "                                   production_companies release_date  \\\n",
       "1640                                 Universal Pictures   10/29/2004   \n",
       "794       Alcon Entertainment|Wild Ocean Films|2S Films     5/5/2011   \n",
       "588             Tollin/Robbins Productions|Warner Bros.    8/22/2001   \n",
       "1751  Plan B Entertainment|Virtual Studios|Scott Fre...     9/2/2007   \n",
       "438                                        Warner Bros.    6/18/2010   \n",
       "\n",
       "      vote_average  release_year  \n",
       "1640           7.0          2004  \n",
       "794            6.0          2011  \n",
       "588            4.8          2001  \n",
       "1751           6.9          2007  \n",
       "438            4.4          2010  "
      ]
     },
     "execution_count": 402,
     "metadata": {},
     "output_type": "execute_result"
    }
   ],
   "source": [
    "data = pd.read_csv('movie_bd_v5.csv')\n",
    "data.sample(5)"
   ]
  },
  {
   "cell_type": "code",
   "execution_count": 403,
   "metadata": {
    "colab": {},
    "colab_type": "code",
    "id": "CoYUnagMVp-C"
   },
   "outputs": [
    {
     "data": {
      "text/html": [
       "<div>\n",
       "<style scoped>\n",
       "    .dataframe tbody tr th:only-of-type {\n",
       "        vertical-align: middle;\n",
       "    }\n",
       "\n",
       "    .dataframe tbody tr th {\n",
       "        vertical-align: top;\n",
       "    }\n",
       "\n",
       "    .dataframe thead th {\n",
       "        text-align: right;\n",
       "    }\n",
       "</style>\n",
       "<table border=\"1\" class=\"dataframe\">\n",
       "  <thead>\n",
       "    <tr style=\"text-align: right;\">\n",
       "      <th></th>\n",
       "      <th>budget</th>\n",
       "      <th>revenue</th>\n",
       "      <th>runtime</th>\n",
       "      <th>vote_average</th>\n",
       "      <th>release_year</th>\n",
       "    </tr>\n",
       "  </thead>\n",
       "  <tbody>\n",
       "    <tr>\n",
       "      <th>count</th>\n",
       "      <td>1.889000e+03</td>\n",
       "      <td>1.889000e+03</td>\n",
       "      <td>1889.000000</td>\n",
       "      <td>1889.000000</td>\n",
       "      <td>1889.000000</td>\n",
       "    </tr>\n",
       "    <tr>\n",
       "      <th>mean</th>\n",
       "      <td>5.431083e+07</td>\n",
       "      <td>1.553653e+08</td>\n",
       "      <td>109.658549</td>\n",
       "      <td>6.140762</td>\n",
       "      <td>2007.860773</td>\n",
       "    </tr>\n",
       "    <tr>\n",
       "      <th>std</th>\n",
       "      <td>4.858721e+07</td>\n",
       "      <td>2.146698e+08</td>\n",
       "      <td>18.017041</td>\n",
       "      <td>0.764763</td>\n",
       "      <td>4.468841</td>\n",
       "    </tr>\n",
       "    <tr>\n",
       "      <th>min</th>\n",
       "      <td>5.000000e+06</td>\n",
       "      <td>2.033165e+06</td>\n",
       "      <td>63.000000</td>\n",
       "      <td>3.300000</td>\n",
       "      <td>2000.000000</td>\n",
       "    </tr>\n",
       "    <tr>\n",
       "      <th>25%</th>\n",
       "      <td>2.000000e+07</td>\n",
       "      <td>3.456058e+07</td>\n",
       "      <td>97.000000</td>\n",
       "      <td>5.600000</td>\n",
       "      <td>2004.000000</td>\n",
       "    </tr>\n",
       "    <tr>\n",
       "      <th>50%</th>\n",
       "      <td>3.800000e+07</td>\n",
       "      <td>8.361541e+07</td>\n",
       "      <td>107.000000</td>\n",
       "      <td>6.100000</td>\n",
       "      <td>2008.000000</td>\n",
       "    </tr>\n",
       "    <tr>\n",
       "      <th>75%</th>\n",
       "      <td>7.200000e+07</td>\n",
       "      <td>1.782626e+08</td>\n",
       "      <td>120.000000</td>\n",
       "      <td>6.600000</td>\n",
       "      <td>2012.000000</td>\n",
       "    </tr>\n",
       "    <tr>\n",
       "      <th>max</th>\n",
       "      <td>3.800000e+08</td>\n",
       "      <td>2.781506e+09</td>\n",
       "      <td>214.000000</td>\n",
       "      <td>8.100000</td>\n",
       "      <td>2015.000000</td>\n",
       "    </tr>\n",
       "  </tbody>\n",
       "</table>\n",
       "</div>"
      ],
      "text/plain": [
       "             budget       revenue      runtime  vote_average  release_year\n",
       "count  1.889000e+03  1.889000e+03  1889.000000   1889.000000   1889.000000\n",
       "mean   5.431083e+07  1.553653e+08   109.658549      6.140762   2007.860773\n",
       "std    4.858721e+07  2.146698e+08    18.017041      0.764763      4.468841\n",
       "min    5.000000e+06  2.033165e+06    63.000000      3.300000   2000.000000\n",
       "25%    2.000000e+07  3.456058e+07    97.000000      5.600000   2004.000000\n",
       "50%    3.800000e+07  8.361541e+07   107.000000      6.100000   2008.000000\n",
       "75%    7.200000e+07  1.782626e+08   120.000000      6.600000   2012.000000\n",
       "max    3.800000e+08  2.781506e+09   214.000000      8.100000   2015.000000"
      ]
     },
     "execution_count": 403,
     "metadata": {},
     "output_type": "execute_result"
    }
   ],
   "source": [
    "data.describe()"
   ]
  },
  {
   "cell_type": "markdown",
   "metadata": {
    "colab_type": "text",
    "id": "DTIt7ezGVp-G"
   },
   "source": [
    "# Предобработка"
   ]
  },
  {
   "cell_type": "code",
   "execution_count": 404,
   "metadata": {
    "colab": {},
    "colab_type": "code",
    "id": "jNb40DwKVp-H"
   },
   "outputs": [],
   "source": [
    "answers = {} # словарь, в котором содержатся ответы на вопросы; dictionary that contains answers to questions"
   ]
  },
  {
   "cell_type": "markdown",
   "metadata": {},
   "source": [
    "# ******На все вопросы ответил правильно******"
   ]
  },
  {
   "cell_type": "markdown",
   "metadata": {
    "colab_type": "text",
    "id": "YxZaH-nPVp-L"
   },
   "source": [
    "# 1. У какого фильма из списка самый большой бюджет?"
   ]
  },
  {
   "cell_type": "markdown",
   "metadata": {
    "colab_type": "text",
    "id": "Nd-G5gX6Vp-M"
   },
   "source": [
    "Использовать варианты ответов в коде решения запрещено.    \n",
    "Вы думаете и в жизни у вас будут варианты ответов?)"
   ]
  },
  {
   "cell_type": "code",
   "execution_count": 405,
   "metadata": {
    "colab": {},
    "colab_type": "code",
    "id": "uVnXAY5RVp-O"
   },
   "outputs": [],
   "source": [
    "# Добавление ответа в словарь, Adding a response to the dictionary  \n",
    "answers['1'] = \"5. Pirates of the Caribbean: On Stranger Tides (tt1298650)\""
   ]
  },
  {
   "cell_type": "code",
   "execution_count": 406,
   "metadata": {
    "colab": {},
    "colab_type": "code",
    "id": "dZwb3m28Vp-S"
   },
   "outputs": [
    {
     "name": "stdout",
     "output_type": "stream",
     "text": [
      "Задание 1: Самый дорогой фильм имеет бюджет -  380000000 \n",
      "Название фильма - 723    Pirates of the Caribbean: On Stranger Tides\n",
      "Name: original_title, dtype: object\n"
     ]
    }
   ],
   "source": [
    "# Решение 1 задачи, Solution 1 of the problem\n",
    "most_expensive_film = data[data.budget == data.budget.max()].original_title\n",
    "budget_film = data.budget.max()\n",
    "print(\"Задание 1: Самый дорогой фильм имеет бюджет - \", budget_film\n",
    "     ,\"\\nНазвание фильма -\", most_expensive_film)"
   ]
  },
  {
   "cell_type": "markdown",
   "metadata": {
    "colab_type": "text",
    "id": "FNRbbI3vVp-c"
   },
   "source": [
    "# 2. Какой из фильмов самый длительный (в минутах)?"
   ]
  },
  {
   "cell_type": "code",
   "execution_count": 407,
   "metadata": {
    "colab": {},
    "colab_type": "code",
    "id": "vHAoEXNTVp-d"
   },
   "outputs": [],
   "source": [
    "# Добавление ответа в словарь, Adding a response to the dictionary  \n",
    "answers['2'] = 'Gods and Generals (tt0279111)'"
   ]
  },
  {
   "cell_type": "code",
   "execution_count": 408,
   "metadata": {
    "colab": {},
    "colab_type": "code",
    "id": "ot-VX2XrVp-g"
   },
   "outputs": [
    {
     "name": "stdout",
     "output_type": "stream",
     "text": [
      "Задание 2: Длительность фильма  -  214 \n",
      "Название фильма - 1157    Gods and Generals\n",
      "Name: original_title, dtype: object\n"
     ]
    }
   ],
   "source": [
    "# Решение 2 задачи, Solution 2 of the problem\n",
    "most_runtime_film = data[data.runtime == data.runtime.max()].original_title\n",
    "m_runtime_film = data.runtime.max()\n",
    "print(\"Задание 2: Длительность фильма  - \", m_runtime_film\n",
    "     ,\"\\nНазвание фильма -\", most_runtime_film)"
   ]
  },
  {
   "cell_type": "markdown",
   "metadata": {
    "colab_type": "text",
    "id": "bapLlpW8Vp-k"
   },
   "source": [
    "# 3. Какой из фильмов самый короткий (в минутах)?\n",
    "\n",
    "\n",
    "\n"
   ]
  },
  {
   "cell_type": "code",
   "execution_count": 409,
   "metadata": {
    "colab": {},
    "colab_type": "code",
    "id": "YBxaSHuAVp-l"
   },
   "outputs": [],
   "source": [
    "# Добавление ответа в словарь, Adding a response to the dictionary  \n",
    "answers['3'] = 'Winnie the Pooh (tt1449283)'"
   ]
  },
  {
   "cell_type": "code",
   "execution_count": 410,
   "metadata": {},
   "outputs": [
    {
     "name": "stdout",
     "output_type": "stream",
     "text": [
      "Задание 3: Длительность фильма  -  63 \n",
      "Название фильма - 768    Winnie the Pooh\n",
      "Name: original_title, dtype: object\n"
     ]
    }
   ],
   "source": [
    "# Решение 3 задачи, Solution 3 of the problem\n",
    "low_runtime_film = data[data.runtime == data.runtime.min()].original_title\n",
    "l_runtime_film = data.runtime.min()\n",
    "print(\"Задание 3: Длительность фильма  - \", l_runtime_film\n",
    "     ,\"\\nНазвание фильма -\", low_runtime_film)"
   ]
  },
  {
   "cell_type": "markdown",
   "metadata": {
    "colab_type": "text",
    "id": "TfQbxbfNVp-p"
   },
   "source": [
    "# 4. Какова средняя длительность фильмов?\n"
   ]
  },
  {
   "cell_type": "code",
   "execution_count": 411,
   "metadata": {
    "colab": {},
    "colab_type": "code",
    "id": "5K6dKZYVVp-q"
   },
   "outputs": [],
   "source": [
    "# Добавление ответа в словарь, Adding a response to the dictionary  \n",
    "answers['4'] = '110'"
   ]
  },
  {
   "cell_type": "code",
   "execution_count": 412,
   "metadata": {},
   "outputs": [
    {
     "name": "stdout",
     "output_type": "stream",
     "text": [
      "Задание 4: Cредняя длительность фильмов  -  110\n"
     ]
    }
   ],
   "source": [
    "# Решение 4 задачи, Solution 4 of the problem\n",
    "mean_runtime_film = round(data.runtime.mean())# Округление, Rounding a number\n",
    "print(\"Задание 4: Cредняя длительность фильмов  - \", mean_runtime_film)"
   ]
  },
  {
   "cell_type": "markdown",
   "metadata": {
    "colab_type": "text",
    "id": "r5TvbnT_Vp-u"
   },
   "source": [
    "# 5. Каково медианное значение длительности фильмов? "
   ]
  },
  {
   "cell_type": "code",
   "execution_count": 413,
   "metadata": {
    "colab": {},
    "colab_type": "code",
    "id": "iBROplKnVp-v"
   },
   "outputs": [],
   "source": [
    "# Добавление ответа в словарь, Adding a response to the dictionary  \n",
    "answers['5'] = '107'"
   ]
  },
  {
   "cell_type": "code",
   "execution_count": 414,
   "metadata": {},
   "outputs": [
    {
     "name": "stdout",
     "output_type": "stream",
     "text": [
      "Задание 4: Cредняя длительность фильмов  -  107\n"
     ]
    }
   ],
   "source": [
    "# Решение 5 задачи, Solution 5 of the problem\n",
    "median_runtime_film = round(data.runtime.median())# Округление, Rounding a number\n",
    "print(\"Задание 4: Cредняя длительность фильмов  - \", median_runtime_film)"
   ]
  },
  {
   "cell_type": "markdown",
   "metadata": {
    "colab_type": "text",
    "id": "39P-deDSVp-y"
   },
   "source": [
    "# 6. Какой самый прибыльный фильм?\n",
    "#### Внимание! Здесь и далее под «прибылью» или «убытками» понимается разность между сборами и бюджетом фильма. (прибыль = сборы - бюджет) в нашем датасете это будет (profit = revenue - budget) "
   ]
  },
  {
   "cell_type": "code",
   "execution_count": 415,
   "metadata": {
    "colab": {},
    "colab_type": "code",
    "id": "UYZh4T9WVp-y"
   },
   "outputs": [],
   "source": [
    "def calculation_of_income ():\n",
    "    '''Function for calculating income\n",
    "    Функция для подсчета доходов'''\n",
    "    data['profit'] = data.revenue - data.budget"
   ]
  },
  {
   "cell_type": "code",
   "execution_count": 416,
   "metadata": {},
   "outputs": [],
   "source": [
    "# Добавление ответа в словарь, Adding a response to the dictionary  \n",
    "answers['6'] = 'Avatar (tt0499549)'"
   ]
  },
  {
   "cell_type": "code",
   "execution_count": 417,
   "metadata": {},
   "outputs": [],
   "source": [
    "calculation_of_income();"
   ]
  },
  {
   "cell_type": "code",
   "execution_count": 418,
   "metadata": {},
   "outputs": [
    {
     "name": "stdout",
     "output_type": "stream",
     "text": [
      "Задание 6: Прибыль фильма  -  2544505847 \n",
      "Название фильма - 239    Avatar\n",
      "Name: original_title, dtype: object\n"
     ]
    }
   ],
   "source": [
    "# Решение 6 задачи, Solution 6 of the problem\n",
    "max_profit_film = data[data.profit == data.profit.max()].original_title\n",
    "profit_film = data.profit.max()\n",
    "print(\"Задание 6: Прибыль фильма  - \", profit_film\n",
    "     ,\"\\nНазвание фильма -\", max_profit_film)"
   ]
  },
  {
   "cell_type": "markdown",
   "metadata": {
    "colab_type": "text",
    "id": "M99JmIX4Vp-2"
   },
   "source": [
    "# 7. Какой фильм самый убыточный? "
   ]
  },
  {
   "cell_type": "code",
   "execution_count": 419,
   "metadata": {
    "colab": {},
    "colab_type": "code",
    "id": "w-D2m4XPVp-3"
   },
   "outputs": [],
   "source": [
    "# Добавление ответа в словарь, Adding a response to the dictionary  \n",
    "answers['7'] = 'The Lone Ranger (tt1210819)'"
   ]
  },
  {
   "cell_type": "code",
   "execution_count": 420,
   "metadata": {},
   "outputs": [
    {
     "name": "stdout",
     "output_type": "stream",
     "text": [
      "Задание 7: Длительность фильма  -  -165710090 \n",
      "Название фильма - 1245    The Lone Ranger\n",
      "Name: original_title, dtype: object\n"
     ]
    }
   ],
   "source": [
    "# Решение 7 задачи, Solution 7 of the problem\n",
    "min_profit_film = data[data.profit == data.profit.min()].original_title\n",
    "profit_film = data.profit.min()\n",
    "print(\"Задание 7: Длительность фильма  - \", profit_film\n",
    "     ,\"\\nНазвание фильма -\", min_profit_film)"
   ]
  },
  {
   "cell_type": "markdown",
   "metadata": {
    "colab_type": "text",
    "id": "wEOM5ERVVp-6"
   },
   "source": [
    "# 8. У скольких фильмов из датасета объем сборов оказался выше бюджета?"
   ]
  },
  {
   "cell_type": "code",
   "execution_count": 421,
   "metadata": {
    "colab": {},
    "colab_type": "code",
    "id": "y00_7HD6Vp-7"
   },
   "outputs": [],
   "source": [
    "# Добавление ответа в словарь, Adding a response to the dictionary  \n",
    "answers['8'] = '1478'"
   ]
  },
  {
   "cell_type": "code",
   "execution_count": 422,
   "metadata": {},
   "outputs": [
    {
     "name": "stdout",
     "output_type": "stream",
     "text": [
      "Задание 8: Кол-во фильмов, у которых объем сборов оказался выше бюджета  -  1478\n"
     ]
    }
   ],
   "source": [
    "# Решение 8 задачи, Solution 8 of the problem\n",
    "sum_of_profitable_films = len(data[data.revenue  > data.budget].index)# Сумма кол-ва фильмов,the amount of movies\n",
    "print(\"Задание 8: Кол-во фильмов, у которых объем сборов оказался выше бюджета  - \", sum_of_profitable_films)"
   ]
  },
  {
   "cell_type": "markdown",
   "metadata": {
    "colab_type": "text",
    "id": "xhpspA9KVp_A"
   },
   "source": [
    "# 9. Какой фильм оказался самым кассовым в 2008 году?"
   ]
  },
  {
   "cell_type": "code",
   "execution_count": 423,
   "metadata": {
    "colab": {},
    "colab_type": "code",
    "id": "MoUyQr9RVp_B"
   },
   "outputs": [],
   "source": [
    "# Добавление ответа в словарь, Adding a response to the dictionary  \n",
    "answers['9'] = 'The Dark Knight (tt0468569)'"
   ]
  },
  {
   "cell_type": "code",
   "execution_count": 424,
   "metadata": {},
   "outputs": [
    {
     "name": "stdout",
     "output_type": "stream",
     "text": [
      "Задание 9: Сборы фильма  -  1001921825 \n",
      "Название фильма - 599    The Dark Knight\n",
      "Name: original_title, dtype: object\n"
     ]
    }
   ],
   "source": [
    "# Решение 9 задачи, Solution 9 of the problem\n",
    "max_revenue_film_2008 = data[(data.revenue  == data.revenue[data.release_year==2008].max())].original_title\n",
    "revenue_film_2008 = data[data.release_year==2008].revenue.max()\n",
    "print(\"Задание 9: Сборы фильма  - \", revenue_film_2008\n",
    "     ,\"\\nНазвание фильма -\", max_revenue_film_2008)"
   ]
  },
  {
   "cell_type": "markdown",
   "metadata": {
    "colab_type": "text",
    "id": "Zi4hDKidVp_F"
   },
   "source": [
    "# 10. Самый убыточный фильм за период с 2012 по 2014 г. (включительно)?\n"
   ]
  },
  {
   "cell_type": "code",
   "execution_count": 425,
   "metadata": {
    "colab": {},
    "colab_type": "code",
    "id": "XqyRmufJVp_F"
   },
   "outputs": [],
   "source": [
    "# Добавление ответа в словарь, Adding a response to the dictionary  \n",
    "answers['10'] = 'The Dark Knight (tt0468569)'"
   ]
  },
  {
   "cell_type": "code",
   "execution_count": 426,
   "metadata": {},
   "outputs": [
    {
     "name": "stdout",
     "output_type": "stream",
     "text": [
      "Задание 10: Убыль фильма  -  -165710090 \n",
      "Название фильма - 1245    The Lone Ranger\n",
      "Name: original_title, dtype: object\n"
     ]
    }
   ],
   "source": [
    "# Решение 10 задачи, Solution 10 of the problem\n",
    "min_profit_film_2012_2014 =data[(data.profit  == data.profit[(data.release_year>=2012)&(data.release_year<=2014)].min())].original_title\n",
    "\n",
    "profit_film_2012_2014 = data[(data.release_year>=2012)&(data.release_year<=2014)].profit.min()\n",
    "print(\"Задание 10: Убыль фильма  - \", profit_film_2012_2014\n",
    "     ,\"\\nНазвание фильма -\", min_profit_film_2012_2014)"
   ]
  },
  {
   "cell_type": "markdown",
   "metadata": {
    "colab_type": "text",
    "id": "EA7Sa9dkVp_I"
   },
   "source": [
    "# 11. Какого жанра фильмов больше всего?"
   ]
  },
  {
   "cell_type": "code",
   "execution_count": 427,
   "metadata": {
    "colab": {},
    "colab_type": "code",
    "id": "zsJAwJ8QVp_J"
   },
   "outputs": [],
   "source": [
    "# Добавление ответа в словарь, Adding a response to the dictionary  \n",
    "answers['11'] = 'Drama'"
   ]
  },
  {
   "cell_type": "code",
   "execution_count": 428,
   "metadata": {},
   "outputs": [
    {
     "name": "stdout",
     "output_type": "stream",
     "text": [
      "Задание 11: Самый популярный жанр  -  Drama \n",
      "Всего -  782\n"
     ]
    }
   ],
   "source": [
    "# Решение 11 задачи, Solution 11 of the problem\n",
    "\n",
    "data_gen=data.copy() \n",
    "data_gen.genres = data_gen.genres.str.split('|') # Разделяем строку по '|' в жанре; Dividing the string by '|'\n",
    "data_gen = data_gen.explode('genres')\n",
    "\n",
    "max_genres = data_gen['genres'].value_counts().index[0]\n",
    "kol_film_for_gen = data_gen['genres'].value_counts()[0]\n",
    "print(\"Задание 11: Самый популярный жанр  - \", max_genres,\n",
    "     \"\\nВсего - \",kol_film_for_gen)"
   ]
  },
  {
   "cell_type": "markdown",
   "metadata": {
    "colab_type": "text",
    "id": "Ax6g2C8SVp_M"
   },
   "source": [
    "ВАРИАНТ 2"
   ]
  },
  {
   "cell_type": "code",
   "execution_count": 429,
   "metadata": {},
   "outputs": [
    {
     "data": {
      "text/plain": [
       "Drama              782\n",
       "Comedy             683\n",
       "Thriller           596\n",
       "Action             582\n",
       "Adventure          415\n",
       "Crime              315\n",
       "Romance            308\n",
       "Family             260\n",
       "Science Fiction    248\n",
       "Fantasy            222\n",
       "Horror             176\n",
       "Mystery            168\n",
       "Animation          139\n",
       "Music               64\n",
       "History             62\n",
       "War                 58\n",
       "Western             19\n",
       "Documentary          8\n",
       "Foreign              2\n",
       "Name: genres, dtype: int64"
      ]
     },
     "execution_count": 429,
     "metadata": {},
     "output_type": "execute_result"
    }
   ],
   "source": [
    "# Просто посмотреть на первую строчку\n",
    "data_gen['genres'].value_counts()"
   ]
  },
  {
   "cell_type": "markdown",
   "metadata": {
    "colab_type": "text",
    "id": "T9_bPWpkVp_Q"
   },
   "source": [
    "# 12. Фильмы какого жанра чаще всего становятся прибыльными? "
   ]
  },
  {
   "cell_type": "code",
   "execution_count": 430,
   "metadata": {
    "colab": {},
    "colab_type": "code",
    "id": "Tmt8MaK1Vp_R"
   },
   "outputs": [],
   "source": [
    "# Добавление ответа в словарь, Adding a response to the dictionary  \n",
    "answers['12'] = 'Drama'"
   ]
  },
  {
   "cell_type": "code",
   "execution_count": 431,
   "metadata": {},
   "outputs": [
    {
     "name": "stdout",
     "output_type": "stream",
     "text": [
      "Задание 12: Самый прибыльный жанр  -  Drama \n",
      " Кол -  559\n"
     ]
    }
   ],
   "source": [
    "# Решение 12 задачи, Solution 12 of the problem\n",
    "genres_max_profit = data_gen[data_gen.profit>0]\n",
    "genres_max_profit = genres_max_profit.groupby(['genres'])[\"profit\"].nunique().sort_values()\n",
    "\n",
    "kol_genres_max_profit = genres_max_profit[-1]\n",
    "genres_max_profit = genres_max_profit.index[-1]\n",
    "print(\"Задание 12: Самый прибыльный жанр  - \", genres_max_profit,\n",
    "     \"\\n Кол - \",kol_genres_max_profit)"
   ]
  },
  {
   "cell_type": "markdown",
   "metadata": {
    "colab_type": "text",
    "id": "0F23bgsDVp_U"
   },
   "source": [
    "# 13. У какого режиссера самые большие суммарные кассовые сборы?"
   ]
  },
  {
   "cell_type": "code",
   "execution_count": 432,
   "metadata": {
    "colab": {},
    "colab_type": "code",
    "id": "K6Z3J8ygVp_X"
   },
   "outputs": [],
   "source": [
    "# Добавление ответа в словарь, Adding a response to the dictionary  \n",
    "answers['13'] = 'Peter Jackson'"
   ]
  },
  {
   "cell_type": "code",
   "execution_count": 433,
   "metadata": {},
   "outputs": [
    {
     "name": "stdout",
     "output_type": "stream",
     "text": [
      "Задание 13: Режиссер, у которого самые большие суммарные кассовые сборы  -  Peter Jackson \n",
      "Cуммарные кассовые сборы - 6490593685\n"
     ]
    }
   ],
   "source": [
    "# Решение 13 задачи, Solution 13 of the problem\n",
    "df=data.copy()\n",
    "df.director = df.director.str.split('|') #Разделяем строку по '|' в director; Dividing the string by '|'\n",
    "df2 = df.explode('director')\n",
    "\n",
    "max_revenue_director = df2.groupby(['director'])['revenue'].sum().sort_values(ascending=False)\n",
    "money_max_revenue_director = max_revenue_director[0]\n",
    "max_revenue_director = max_revenue_director.index[0]\n",
    "\n",
    "print(\"Задание 13: Режиссер, у которого самые большие суммарные кассовые сборы  - \", max_revenue_director,\n",
    "     '\\nCуммарные кассовые сборы -',money_max_revenue_director)"
   ]
  },
  {
   "cell_type": "markdown",
   "metadata": {
    "colab_type": "text",
    "id": "PsYC9FgRVp_a"
   },
   "source": [
    "# 14. Какой режисер снял больше всего фильмов в стиле Action?"
   ]
  },
  {
   "cell_type": "code",
   "execution_count": 434,
   "metadata": {},
   "outputs": [],
   "source": [
    "# Добавление ответа в словарь, Adding a response to the dictionary  \n",
    "answers['14'] = 'Robert Rodriguez'"
   ]
  },
  {
   "cell_type": "code",
   "execution_count": 435,
   "metadata": {
    "colab": {},
    "colab_type": "code",
    "id": "wd2M-wHeVp_b"
   },
   "outputs": [
    {
     "name": "stdout",
     "output_type": "stream",
     "text": [
      "Задание 14: Режиссер, который снял больше всего фильмов в стиле Action  -  Robert Rodriguez \n",
      "Кол-во фильмов - 9\n"
     ]
    }
   ],
   "source": [
    "# Решение 14 задачи, Solution 14 of the problem\n",
    "dir_action_films = data[data.genres.str.contains('Action')].director.str.split('|').explode().value_counts().index[0]\n",
    "kol_action_films = data[data.genres.str.contains('Action')].director.str.split('|').explode().value_counts()[0]\n",
    "print(\"Задание 14: Режиссер, который снял больше всего фильмов в стиле Action  - \", dir_action_films,\n",
    "     '\\nКол-во фильмов -', kol_action_films)"
   ]
  },
  {
   "cell_type": "markdown",
   "metadata": {
    "colab_type": "text",
    "id": "PQ0KciD7Vp_f"
   },
   "source": [
    "# 15. Фильмы с каким актером принесли самые высокие кассовые сборы в 2012 году? "
   ]
  },
  {
   "cell_type": "code",
   "execution_count": 436,
   "metadata": {},
   "outputs": [],
   "source": [
    "# Добавление ответа в словарь, Adding a response to the dictionary  \n",
    "answers['15'] = 'Chris Hemsworth'"
   ]
  },
  {
   "cell_type": "code",
   "execution_count": 437,
   "metadata": {
    "colab": {},
    "colab_type": "code",
    "id": "aga62oeKVp_g"
   },
   "outputs": [
    {
     "name": "stdout",
     "output_type": "stream",
     "text": [
      "Задание 15: Актер, который принес самый высокий кассовый сбор в 2012 году  -  Chris Hemsworth \n",
      "Он принес - 2027450773\n"
     ]
    }
   ],
   "source": [
    "# Решение 15 задачи, Solution 15 of the problem\n",
    "df = data[data['release_year'] == 2012].copy() #Берем фильмы 2012 года\n",
    "df.cast = df.cast.str.split('|')\n",
    "df=df.explode('cast')  \n",
    "\n",
    "\n",
    "df = df.groupby(['cast'])['revenue'].sum().sort_values(ascending= False)\n",
    "Acter_2012 = df.index[0]\n",
    "Money_Acter_2012 = df[0]\n",
    "print(\"Задание 15: Актер, который принес самый высокий кассовый сбор в 2012 году  - \", Acter_2012,\n",
    "     '\\nОн принес -', Money_Acter_2012)"
   ]
  },
  {
   "cell_type": "markdown",
   "metadata": {
    "colab_type": "text",
    "id": "mWHyyL7QVp_j"
   },
   "source": [
    "# 16. Какой актер снялся в большем количестве высокобюджетных фильмов?"
   ]
  },
  {
   "cell_type": "code",
   "execution_count": 438,
   "metadata": {},
   "outputs": [],
   "source": [
    "# Добавление ответа в словарь, Adding a response to the dictionary  \n",
    "answers['16'] = 'Matt Damon'"
   ]
  },
  {
   "cell_type": "code",
   "execution_count": 439,
   "metadata": {
    "colab": {},
    "colab_type": "code",
    "id": "qQtmHKTFVp_k"
   },
   "outputs": [
    {
     "name": "stdout",
     "output_type": "stream",
     "text": [
      "Задание 16: Актер, который снялся в большем количестве высокобюджетных фильмов -  Matt Damon \n",
      "Всего фильмов - 18\n"
     ]
    }
   ],
   "source": [
    "# Решение 16 задачи, Solution 16 of the problem\n",
    "df = data[data['budget'] > data['budget'].mean()].copy() #Берем высокобюджетные фильмы\n",
    "df.cast = df.cast.str.split('|')\n",
    "df=df.explode('cast')  \n",
    "\n",
    "acter_big_cast=df['cast'].value_counts().index[0]\n",
    "kol_acter_big_cast=df['cast'].value_counts()[0]\n",
    "\n",
    "print(\"Задание 16: Актер, который снялся в большем количестве высокобюджетных фильмов - \", acter_big_cast,\n",
    "     '\\nВсего фильмов -', kol_acter_big_cast)"
   ]
  },
  {
   "cell_type": "markdown",
   "metadata": {
    "colab_type": "text",
    "id": "NIh6AaW5Vp_n"
   },
   "source": [
    "# 17. В фильмах какого жанра больше всего снимался Nicolas Cage? "
   ]
  },
  {
   "cell_type": "code",
   "execution_count": 440,
   "metadata": {
    "colab": {},
    "colab_type": "code",
    "id": "H74SJDIBVp_n"
   },
   "outputs": [],
   "source": [
    "# Добавление ответа в словарь, Adding a response to the dictionary  \n",
    "answers['17'] = 'Action'"
   ]
  },
  {
   "cell_type": "code",
   "execution_count": 441,
   "metadata": {},
   "outputs": [
    {
     "name": "stdout",
     "output_type": "stream",
     "text": [
      "Задание 17: Жанр, в фильмах которого больше всего снимался Nicolas Cage -  Action \n",
      "Всего фильмов - 17\n"
     ]
    }
   ],
   "source": [
    "# Решение 17 задачи, Solution 17 of the problem\n",
    "genres_of_Nicolas = data[data.cast.str.contains('Nicolas Cage')].genres.str.split('|').explode().value_counts().index[0]\n",
    "kol_genres_of_Nicolas = data[data.cast.str.contains('Nicolas Cage')].genres.str.split('|').explode().value_counts()[0]\n",
    "\n",
    "print(\"Задание 17: Жанр, в фильмах которого больше всего снимался Nicolas Cage - \", genres_of_Nicolas,\n",
    "     '\\nВсего фильмов -', kol_genres_of_Nicolas)"
   ]
  },
  {
   "cell_type": "markdown",
   "metadata": {
    "colab_type": "text",
    "id": "RqOmPRfWVp_q"
   },
   "source": [
    "# 18. Самый убыточный фильм от Paramount Pictures"
   ]
  },
  {
   "cell_type": "code",
   "execution_count": 442,
   "metadata": {
    "colab": {},
    "colab_type": "code",
    "id": "9E_B0Y96Vp_r"
   },
   "outputs": [],
   "source": [
    "# Добавление ответа в словарь, Adding a response to the dictionary  \n",
    "answers['18'] = 'K-19: The Widowmaker'"
   ]
  },
  {
   "cell_type": "code",
   "execution_count": 443,
   "metadata": {},
   "outputs": [
    {
     "name": "stdout",
     "output_type": "stream",
     "text": [
      "Задание 18: Самый убыточный фильм от Paramount Picturese -  K-19: The Widowmaker \n",
      "Всего фильмов - -64831034\n"
     ]
    }
   ],
   "source": [
    "# Решение 18 задачи, Solution 18 of the problem\n",
    "df = data.copy()\n",
    "df.production_companies = df.production_companies.str.split('|') \n",
    "df=df.explode('production_companies')  \n",
    "\n",
    "df = df[df.production_companies==\"Paramount Pictures\"] #Отбираем фильмы от Paramount Pictures, film by Paramount Pictures\n",
    "df = df.groupby(['original_title'])[\"profit\"].sum().sort_values()\n",
    "\n",
    "film_losing_by_Paramount = df.index[0]\n",
    "money_film_losing_by_Paramount = df[0]\n",
    "\n",
    "print(\"Задание 18: Самый убыточный фильм от Paramount Picturese - \", film_losing_by_Paramount,\n",
    "     '\\nВсего фильмов -', money_film_losing_by_Paramount)"
   ]
  },
  {
   "cell_type": "markdown",
   "metadata": {
    "colab_type": "text",
    "id": "vS8Ur6ddVp_u"
   },
   "source": [
    "# 19. Какой год стал самым успешным по суммарным кассовым сборам?"
   ]
  },
  {
   "cell_type": "code",
   "execution_count": 444,
   "metadata": {
    "colab": {},
    "colab_type": "code",
    "id": "Dnbt4GdIVp_v"
   },
   "outputs": [],
   "source": [
    "# Добавление ответа в словарь, Adding a response to the dictionary  \n",
    "answers['19'] = '2015'"
   ]
  },
  {
   "cell_type": "code",
   "execution_count": 445,
   "metadata": {},
   "outputs": [
    {
     "name": "stdout",
     "output_type": "stream",
     "text": [
      "Задание 19: Год, который стал самым успешным по суммарным кассовым сборам -  2015\n"
     ]
    }
   ],
   "source": [
    "# Решение 19 задачи, Solution 19 of the problem\n",
    "df = data.copy() \n",
    "df = df.groupby(['release_year'])[\"revenue\"].sum().sort_values(ascending= False)\n",
    "\n",
    "year_max_revenue = df.index[0]\n",
    "\n",
    "print(\"Задание 19: Год, который стал самым успешным по суммарным кассовым сборам - \", year_max_revenue,)"
   ]
  },
  {
   "cell_type": "markdown",
   "metadata": {
    "colab_type": "text",
    "id": "JAzJh4QAVp_z"
   },
   "source": [
    "# 20. Какой самый прибыльный год для студии Warner Bros?"
   ]
  },
  {
   "cell_type": "code",
   "execution_count": 446,
   "metadata": {
    "colab": {},
    "colab_type": "code",
    "id": "wgVu02DEVp_0"
   },
   "outputs": [],
   "source": [
    "# Добавление ответа в словарь, Adding a response to the dictionary  \n",
    "answers['20'] = '2014'"
   ]
  },
  {
   "cell_type": "code",
   "execution_count": 447,
   "metadata": {},
   "outputs": [
    {
     "name": "stdout",
     "output_type": "stream",
     "text": [
      "Задание 20: Самый прибыльный год для студии Warner Bros -  2014\n"
     ]
    }
   ],
   "source": [
    "# Решение 20 задачи, Solution 20 of the problem\n",
    "year_revenue_of_Warner = data.loc[data.production_companies.str.contains('Warner Bros')].groupby(by = 'release_year').profit.sum().sort_values(ascending = False)\n",
    "print(\"Задание 20: Самый прибыльный год для студии Warner Bros - \", year_revenue_of_Warner.index[0])"
   ]
  },
  {
   "cell_type": "markdown",
   "metadata": {
    "colab_type": "text",
    "id": "8Im1S2HRVp_4"
   },
   "source": [
    "# 21. В каком месяце за все годы суммарно вышло больше всего фильмов?"
   ]
  },
  {
   "cell_type": "code",
   "execution_count": 448,
   "metadata": {},
   "outputs": [],
   "source": [
    "def splitting_a_date_into_months(months):\n",
    "    '''Function for dividing a date into months for all years\n",
    "    Разделение даты на месяцы за все года'''\n",
    "    \n",
    "    S=[]\n",
    "    for i in range(len(months.release_date)):\n",
    "        S.append( months.release_date [i][ :months.release_date[i].find('/')] )\n",
    "    months.release_date = S"
   ]
  },
  {
   "cell_type": "code",
   "execution_count": 449,
   "metadata": {},
   "outputs": [],
   "source": [
    "def months_to_str(num_months):\n",
    "    '''Function for translating a month from a number to a word\n",
    "    Функция для перевода месяца из числа в слово'''\n",
    "    d = {'1': 'январь', '2': 'февраль', '3': 'март', '4': 'апрель', '5': 'май', '6': 'июнь'\n",
    "        , '7': 'июль', '8': 'август', '9': 'сентябрь', '10': 'октябрь', '11': 'ноябрь', '12': 'декабрь'}\n",
    "    return d[num_months]"
   ]
  },
  {
   "cell_type": "code",
   "execution_count": 450,
   "metadata": {
    "colab": {},
    "colab_type": "code",
    "id": "lev6TH7gVp_4"
   },
   "outputs": [],
   "source": [
    "# Добавление ответа в словарь, Adding a response to the dictionary  \n",
    "answers['21'] = 'сентябрь'"
   ]
  },
  {
   "cell_type": "code",
   "execution_count": 451,
   "metadata": {},
   "outputs": [
    {
     "name": "stdout",
     "output_type": "stream",
     "text": [
      "Задание 21: Месяц, в котором за все годы суммарно вышло больше всего фильмов -  сентябрь \n",
      "Всего фильмов - 227\n"
     ]
    }
   ],
   "source": [
    "# Решение 21 задачи, Solution 21 of the problem\n",
    "months=data.copy()\n",
    "splitting_a_date_into_months(months) # Изменяем release_date на месяцы, Changing release_date to months\n",
    "months['release_date'].value_counts()\n",
    "\n",
    "films_of_months = months_to_str(months['release_date'].value_counts().index[0]) # Переводим месяц из числа в слово, translating a month from a number to a word\n",
    "kol_films_of_moths =  months['release_date'].value_counts()[0]\n",
    "\n",
    "\n",
    "print(\"Задание 21: Месяц, в котором за все годы суммарно вышло больше всего фильмов - \", films_of_months,\n",
    "     '\\nВсего фильмов -', kol_films_of_moths)"
   ]
  },
  {
   "cell_type": "markdown",
   "metadata": {
    "colab_type": "text",
    "id": "uAJsZ_NeVp_7"
   },
   "source": [
    "# 22. Сколько суммарно вышло фильмов летом? (за июнь, июль, август)"
   ]
  },
  {
   "cell_type": "code",
   "execution_count": 452,
   "metadata": {},
   "outputs": [],
   "source": [
    "# Добавление ответа в словарь, Adding a response to the dictionary  \n",
    "answers['22'] = '450'"
   ]
  },
  {
   "cell_type": "code",
   "execution_count": 453,
   "metadata": {
    "colab": {},
    "colab_type": "code",
    "id": "Aa-hEREoVp_8"
   },
   "outputs": [
    {
     "name": "stdout",
     "output_type": "stream",
     "text": [
      "Задание 22: Кол-во фильмов, которые вышли летом -  450\n"
     ]
    }
   ],
   "source": [
    "# Решение 22 задачи, Solution 22 of the problem\n",
    "sum_kol_summer_films = len(months[( months.release_date == '6' ) | (months.release_date == '7') | (months.release_date == '8')])\n",
    "print(\"Задание 22: Кол-во фильмов, которые вышли летом - \", sum_kol_summer_films)"
   ]
  },
  {
   "cell_type": "markdown",
   "metadata": {
    "colab_type": "text",
    "id": "G94ppOY1VqAA"
   },
   "source": [
    "# 23. Для какого режиссера зима – самое продуктивное время года? "
   ]
  },
  {
   "cell_type": "code",
   "execution_count": 454,
   "metadata": {
    "colab": {},
    "colab_type": "code",
    "id": "RhNTsamuVqAB"
   },
   "outputs": [],
   "source": [
    "# Добавление ответа в словарь, Adding a response to the dictionary  \n",
    "answers['23'] = 'Peter Jackson'"
   ]
  },
  {
   "cell_type": "code",
   "execution_count": 455,
   "metadata": {},
   "outputs": [
    {
     "name": "stdout",
     "output_type": "stream",
     "text": [
      "Задание 23: Режиссер, для которого зима – самое продуктивное время года -  Peter Jackson \n",
      "Он снял 7 фильмов\n"
     ]
    }
   ],
   "source": [
    "# Решение 23 задачи, Solution 23 of the problem\n",
    "winter_director = months[(months.release_date=='12')|(months.release_date=='1')|(months.release_date=='2')].director.str.split('|').explode().value_counts().index[0]\n",
    "kol_fims_of_winter_director = months[(months.release_date=='12')|(months.release_date=='1')|(months.release_date=='2')].director.str.split('|').explode().value_counts()[0]\n",
    "\n",
    "print(\"Задание 23: Режиссер, для которого зима – самое продуктивное время года - \", winter_director,\n",
    "     '\\nОн снял', kol_fims_of_winter_director, 'фильмов')"
   ]
  },
  {
   "cell_type": "markdown",
   "metadata": {
    "colab_type": "text",
    "id": "RBo0JVjVVqAF"
   },
   "source": [
    "# 24. Какая студия дает самые длинные названия своим фильмам по количеству символов?"
   ]
  },
  {
   "cell_type": "code",
   "execution_count": 456,
   "metadata": {},
   "outputs": [],
   "source": [
    "def len_original_title (data_len_original_title):\n",
    "    '''Function for counting the number of characters\n",
    "    Функция для подсчета количества символов'''\n",
    "    \n",
    "    data_len_original_title['len_title'] = data.original_title.apply(lambda x:len(x)) #добавили столбец с длиной названий\n",
    "    return data_len_original_title\n",
    "    "
   ]
  },
  {
   "cell_type": "code",
   "execution_count": 457,
   "metadata": {
    "colab": {},
    "colab_type": "code",
    "id": "QRGS8L0iVqAG"
   },
   "outputs": [],
   "source": [
    "# Добавление ответа в словарь, Adding a response to the dictionary  \n",
    "answers['24'] = 'Four By Two Productions'"
   ]
  },
  {
   "cell_type": "code",
   "execution_count": 458,
   "metadata": {},
   "outputs": [
    {
     "name": "stdout",
     "output_type": "stream",
     "text": [
      "Задание 24: Студия, которая дает самые длинные названия своим фильмам по количеству символов  Four By Two Productions \n",
      "Кол-во символов - 83.0\n"
     ]
    }
   ],
   "source": [
    "# Решение 24 задачи, Solution 24 of the problem\n",
    "data_len_original_title = data.copy()\n",
    "data_len_original_title = len_original_title(data_len_original_title) # Добавили новый столбец с длиной строки, Added a new column with a row length\n",
    "\n",
    "max_len_by_production_companies = (data_len_original_title.assign(production_companies = data_len_original_title['production_companies'].str.split('|'))\n",
    "       .explode('production_companies').groupby('production_companies')['len_title'].mean().sort_values())\n",
    "\n",
    "print(\"Задание 24: Студия, которая дает самые длинные названия своим фильмам по количеству символов \", max_len_by_production_companies.index[-1],\n",
    "     '\\nКол-во символов -', max_len_by_production_companies[-1])"
   ]
  },
  {
   "cell_type": "markdown",
   "metadata": {
    "colab_type": "text",
    "id": "9G0hbvR7VqAK"
   },
   "source": [
    "# 25. Описание фильмов какой студии в среднем самые длинные по количеству слов?"
   ]
  },
  {
   "cell_type": "code",
   "execution_count": 459,
   "metadata": {},
   "outputs": [],
   "source": [
    "def len_overview (data_len_overview):\n",
    "    '''Function for counting the number of characters\n",
    "    Функция для подсчета количества символов'''\n",
    "    \n",
    "    data_len_overview['len_overview'] = data.overview.apply(lambda x:len(x)) #добавили столбец с длиной названий\n",
    "    return data_len_overview"
   ]
  },
  {
   "cell_type": "code",
   "execution_count": 460,
   "metadata": {},
   "outputs": [],
   "source": [
    "# Добавление ответа в словарь, Adding a response to the dictionary \n",
    "answers['25'] = 'Midnight Picture Show'"
   ]
  },
  {
   "cell_type": "code",
   "execution_count": 461,
   "metadata": {
    "colab": {},
    "colab_type": "code",
    "id": "Ge2GsLNxVqAK"
   },
   "outputs": [
    {
     "name": "stdout",
     "output_type": "stream",
     "text": [
      "Задание 25: Студия, в которой самое длинное в среднем описаник  Midnight Picture Show \n",
      "Кол-во символов - 1000.0\n"
     ]
    }
   ],
   "source": [
    "# Решение 25 задачи, Solution 25 of the problem\n",
    "data_len_overview = data.copy()\n",
    "data_len_overview = len_overview(data_len_overview) # Добавили новый столбец с длиной описания, Added a new column with a row overview\n",
    "\n",
    "max_len_by_overview = (data_len_overview.assign(production_companies = data_len_overview['production_companies'].str.split('|'))\n",
    "       .explode('production_companies').groupby('production_companies')['len_overview'].mean().sort_values(ascending= False))\n",
    "\n",
    "print(\"Задание 25: Студия, в которой самое длинное в среднем описаник \", max_len_by_overview.index[0],\n",
    "     '\\nКол-во символов -', max_len_by_overview[0])\n"
   ]
  },
  {
   "cell_type": "markdown",
   "metadata": {
    "colab_type": "text",
    "id": "FJ1AFt90VqAP"
   },
   "source": [
    "# 26. Какие фильмы входят в 1 процент лучших по рейтингу? \n",
    "по vote_average"
   ]
  },
  {
   "cell_type": "code",
   "execution_count": 462,
   "metadata": {},
   "outputs": [],
   "source": [
    "# Добавление ответа в словарь, Adding a response to the dictionary \n",
    "answers['26'] = 'Inside Out, The Dark Knight, 12 Years a Slave'"
   ]
  },
  {
   "cell_type": "code",
   "execution_count": 463,
   "metadata": {
    "colab": {},
    "colab_type": "code",
    "id": "8qmJVq4CVqAQ"
   },
   "outputs": [
    {
     "data": {
      "text/plain": [
       "599                                   The Dark Knight\n",
       "118                                      Interstellar\n",
       "125                                The Imitation Game\n",
       "9                                          Inside Out\n",
       "34                                               Room\n",
       "1183                          The Wolf of Wall Street\n",
       "128                                         Gone Girl\n",
       "1191                                 12 Years a Slave\n",
       "119                           Guardians of the Galaxy\n",
       "1081    The Lord of the Rings: The Return of the King\n",
       "1800                                          Memento\n",
       "370                                         Inception\n",
       "872                                       The Pianist\n",
       "138                          The Grand Budapest Hotel\n",
       "1188                                              Her\n",
       "28                                          Spotlight\n",
       "124                                        Big Hero 6\n",
       "177                            The Fault in Our Stars\n",
       "863             The Lord of the Rings: The Two Towers\n",
       "Name: original_title, dtype: object"
      ]
     },
     "execution_count": 463,
     "metadata": {},
     "output_type": "execute_result"
    }
   ],
   "source": [
    "# Решение 26 задачи, Solution 26 of the problem\n",
    "best_film = data.copy()\n",
    "best_film=best_film.sort_values('vote_average',ascending= False) #Сортируем по рейтингу,Sort by rating\n",
    "best_film=best_film.head((round(len(best_film)/100)))  #Берем 1 процент от всех данных, take 1 percent of all the data\n",
    "best_film.original_title "
   ]
  },
  {
   "cell_type": "markdown",
   "metadata": {
    "colab_type": "text",
    "id": "MdXsUXbCVqAV"
   },
   "source": [
    "# 27. Какие актеры чаще всего снимаются в одном фильме вместе?\n"
   ]
  },
  {
   "cell_type": "code",
   "execution_count": 464,
   "metadata": {},
   "outputs": [],
   "source": [
    "# Добавление ответа в словарь, Adding a response to the dictionary \n",
    "answers['27'] = 'Daniel Radcliffe & Rupert Grint'"
   ]
  },
  {
   "cell_type": "code",
   "execution_count": 465,
   "metadata": {},
   "outputs": [
    {
     "name": "stdout",
     "output_type": "stream",
     "text": [
      "Задание 26: Актеры, которые: чаще всего снимаются в одном фильме вместе: \n"
     ]
    },
    {
     "data": {
      "text/plain": [
       "[(('Daniel Radcliffe', 'Rupert Grint'), 8)]"
      ]
     },
     "execution_count": 465,
     "metadata": {},
     "output_type": "execute_result"
    }
   ],
   "source": [
    "# Решение 27 задачи, Solution 27 of the problem\n",
    "# Использовал функцию combinations, для поиска всех комбинаций актеров\n",
    "pairs = Counter() \n",
    "for i in range(0,len(data)):\n",
    "    artists = data.cast[i].split('|')\n",
    "    for j in list(combinations(artists,2)):\n",
    "        if j not in pairs:\n",
    "            pairs[j] = 1\n",
    "        else:\n",
    "            pairs[j] += 1\n",
    "print(\"Задание 26: Актеры, которые: чаще всего снимаются в одном фильме вместе: \")            \n",
    "pairs.most_common(1)"
   ]
  },
  {
   "cell_type": "markdown",
   "metadata": {
    "colab_type": "text",
    "id": "4ymnxEVoVqAW"
   },
   "source": [
    "ВАРИАНТ 2"
   ]
  },
  {
   "cell_type": "markdown",
   "metadata": {
    "colab_type": "text",
    "id": "U0nONFnGVqAX"
   },
   "source": [
    "# Submission"
   ]
  },
  {
   "cell_type": "code",
   "execution_count": 466,
   "metadata": {
    "colab": {},
    "colab_type": "code",
    "id": "IfcaRO9-VqAX",
    "outputId": "0f132912-32bb-4196-c98c-abfbc4ad5a5f"
   },
   "outputs": [
    {
     "data": {
      "text/plain": [
       "{'1': '5. Pirates of the Caribbean: On Stranger Tides (tt1298650)',\n",
       " '2': 'Gods and Generals (tt0279111)',\n",
       " '3': 'Winnie the Pooh (tt1449283)',\n",
       " '4': '110',\n",
       " '5': '107',\n",
       " '6': 'Avatar (tt0499549)',\n",
       " '7': 'The Lone Ranger (tt1210819)',\n",
       " '8': '1478',\n",
       " '9': 'The Dark Knight (tt0468569)',\n",
       " '10': 'The Dark Knight (tt0468569)',\n",
       " '11': 'Drama',\n",
       " '12': 'Drama',\n",
       " '13': 'Peter Jackson',\n",
       " '14': 'Robert Rodriguez',\n",
       " '15': 'Chris Hemsworth',\n",
       " '16': 'Matt Damon',\n",
       " '17': 'Action',\n",
       " '18': 'K-19: The Widowmaker',\n",
       " '19': '2015',\n",
       " '20': '2014',\n",
       " '21': 'сентябрь',\n",
       " '22': '450',\n",
       " '23': 'Peter Jackson',\n",
       " '24': 'Four By Two Productions',\n",
       " '25': 'Midnight Picture Show',\n",
       " '26': 'Inside Out, The Dark Knight, 12 Years a Slave',\n",
       " '27': 'Daniel Radcliffe & Rupert Grint'}"
      ]
     },
     "execution_count": 466,
     "metadata": {},
     "output_type": "execute_result"
    }
   ],
   "source": [
    "# в конце можно посмотреть свои ответы к каждому вопросу\n",
    "answers"
   ]
  },
  {
   "cell_type": "code",
   "execution_count": 467,
   "metadata": {
    "colab": {},
    "colab_type": "code",
    "id": "SiRmHPl8VqAd"
   },
   "outputs": [
    {
     "data": {
      "text/plain": [
       "27"
      ]
     },
     "execution_count": 467,
     "metadata": {},
     "output_type": "execute_result"
    }
   ],
   "source": [
    "# и убедиться что ни чего не пропустил)\n",
    "len(answers)"
   ]
  },
  {
   "cell_type": "code",
   "execution_count": null,
   "metadata": {},
   "outputs": [],
   "source": []
  }
 ],
 "metadata": {
  "colab": {
   "name": "Copy of [SF-DST] Movies IMBD v4.1 TEMPLATE.ipynb",
   "provenance": []
  },
  "kernelspec": {
   "display_name": "Python 3",
   "language": "python",
   "name": "python3"
  },
  "language_info": {
   "codemirror_mode": {
    "name": "ipython",
    "version": 3
   },
   "file_extension": ".py",
   "mimetype": "text/x-python",
   "name": "python",
   "nbconvert_exporter": "python",
   "pygments_lexer": "ipython3",
   "version": "3.8.5"
  }
 },
 "nbformat": 4,
 "nbformat_minor": 1
}
